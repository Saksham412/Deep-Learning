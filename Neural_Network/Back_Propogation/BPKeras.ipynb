{
  "nbformat": 4,
  "nbformat_minor": 0,
  "metadata": {
    "colab": {
      "provenance": []
    },
    "kernelspec": {
      "name": "python3",
      "display_name": "Python 3"
    },
    "language_info": {
      "name": "python"
    }
  },
  "cells": [
    {
      "cell_type": "code",
      "execution_count": 1,
      "metadata": {
        "id": "oO0N4N2DO43C"
      },
      "outputs": [],
      "source": [
        "import numpy as np\n",
        "import pandas as pd"
      ]
    },
    {
      "cell_type": "code",
      "source": [
        "df = pd.DataFrame([[8,8,4],[7,9,5],[6,10,6],[5,12,7]], columns=['cgpa', 'profile_score', 'lpa'])"
      ],
      "metadata": {
        "id": "aSogOgpdQtNa"
      },
      "execution_count": 2,
      "outputs": []
    },
    {
      "cell_type": "code",
      "source": [
        "import tensorflow"
      ],
      "metadata": {
        "id": "tqkzqs5OQvQP"
      },
      "execution_count": 3,
      "outputs": []
    },
    {
      "cell_type": "code",
      "source": [
        "from tensorflow import keras\n",
        "from keras import Sequential\n",
        "from keras.layers import Dense"
      ],
      "metadata": {
        "id": "eVkzxiqrQ0AZ"
      },
      "execution_count": 4,
      "outputs": []
    },
    {
      "cell_type": "code",
      "source": [
        "model = Sequential()\n",
        "\n",
        "model.add(Dense(2,activation='linear',input_dim=2))\n",
        "model.add(Dense(1,activation= 'linear'))"
      ],
      "metadata": {
        "id": "ja49Rc1gQ-ip"
      },
      "execution_count": 6,
      "outputs": []
    },
    {
      "cell_type": "code",
      "source": [
        "model.summary()"
      ],
      "metadata": {
        "colab": {
          "base_uri": "https://localhost:8080/"
        },
        "id": "tFZd4n0pRSRI",
        "outputId": "f6ba838b-3829-4ac6-a5ec-cc0ed792eabf"
      },
      "execution_count": 8,
      "outputs": [
        {
          "output_type": "stream",
          "name": "stdout",
          "text": [
            "Model: \"sequential_1\"\n",
            "_________________________________________________________________\n",
            " Layer (type)                Output Shape              Param #   \n",
            "=================================================================\n",
            " dense (Dense)               (None, 2)                 6         \n",
            "                                                                 \n",
            " dense_1 (Dense)             (None, 1)                 3         \n",
            "                                                                 \n",
            "=================================================================\n",
            "Total params: 9 (36.00 Byte)\n",
            "Trainable params: 9 (36.00 Byte)\n",
            "Non-trainable params: 0 (0.00 Byte)\n",
            "_________________________________________________________________\n"
          ]
        }
      ]
    },
    {
      "cell_type": "code",
      "source": [
        "model.get_weights()"
      ],
      "metadata": {
        "colab": {
          "base_uri": "https://localhost:8080/"
        },
        "id": "OUOhlk8LRYIc",
        "outputId": "a0d7bc45-920d-45b8-b472-0d52d830ab5c"
      },
      "execution_count": 9,
      "outputs": [
        {
          "output_type": "execute_result",
          "data": {
            "text/plain": [
              "[array([[-0.8768333, -0.2663992],\n",
              "        [ 1.2141589, -1.0943927]], dtype=float32),\n",
              " array([0., 0.], dtype=float32),\n",
              " array([[-0.55200166],\n",
              "        [ 0.3216927 ]], dtype=float32),\n",
              " array([0.], dtype=float32)]"
            ]
          },
          "metadata": {},
          "execution_count": 9
        }
      ]
    },
    {
      "cell_type": "code",
      "source": [
        "new_weights = [np.array([[0.1, 0.1],\n",
        "        [ 0.1, 0.1]], dtype=np.float32),\n",
        " np.array([0., 0.], dtype=np.float32),\n",
        " np.array([[0.1],\n",
        "        [ 0.1 ]], dtype=np.float32),\n",
        " np.array([0.], dtype=np.float32)]"
      ],
      "metadata": {
        "id": "mbvasKCUReNi"
      },
      "execution_count": 17,
      "outputs": []
    },
    {
      "cell_type": "code",
      "source": [
        "model.set_weights(new_weights)"
      ],
      "metadata": {
        "id": "O0lLvr_TRydf"
      },
      "execution_count": 18,
      "outputs": []
    },
    {
      "cell_type": "code",
      "source": [
        "model.get_weights()"
      ],
      "metadata": {
        "colab": {
          "base_uri": "https://localhost:8080/"
        },
        "id": "plNdmgFXR7sd",
        "outputId": "33289a00-e04f-47c6-eb3f-206cca2e4a4f"
      },
      "execution_count": 20,
      "outputs": [
        {
          "output_type": "execute_result",
          "data": {
            "text/plain": [
              "[array([[0.1, 0.1],\n",
              "        [0.1, 0.1]], dtype=float32),\n",
              " array([0., 0.], dtype=float32),\n",
              " array([[0.1],\n",
              "        [0.1]], dtype=float32),\n",
              " array([0.], dtype=float32)]"
            ]
          },
          "metadata": {},
          "execution_count": 20
        }
      ]
    },
    {
      "cell_type": "code",
      "source": [
        "optimizer = keras.optimizers.Adam(learning_rate=0.001)"
      ],
      "metadata": {
        "id": "LnzUcyPuTEE-"
      },
      "execution_count": 21,
      "outputs": []
    },
    {
      "cell_type": "code",
      "source": [
        "model.compile(loss = 'mean_squared_error', optimizer=optimizer)"
      ],
      "metadata": {
        "id": "htfntgbyTfxj"
      },
      "execution_count": 22,
      "outputs": []
    },
    {
      "cell_type": "code",
      "source": [
        "model.fit(df.iloc[:,0:-1].values,df['lpa'].values,epochs=75,verbose=1,batch_size=1)"
      ],
      "metadata": {
        "colab": {
          "base_uri": "https://localhost:8080/"
        },
        "id": "Y0zxNumITskr",
        "outputId": "58d3df1d-fd69-4c70-cf90-4c4cd4503169"
      },
      "execution_count": 23,
      "outputs": [
        {
          "output_type": "stream",
          "name": "stdout",
          "text": [
            "Epoch 1/75\n",
            "4/4 [==============================] - 1s 7ms/step - loss: 27.8838\n",
            "Epoch 2/75\n",
            "4/4 [==============================] - 0s 4ms/step - loss: 27.5572\n",
            "Epoch 3/75\n",
            "4/4 [==============================] - 0s 5ms/step - loss: 27.2599\n",
            "Epoch 4/75\n",
            "4/4 [==============================] - 0s 3ms/step - loss: 26.8942\n",
            "Epoch 5/75\n",
            "4/4 [==============================] - 0s 3ms/step - loss: 26.5474\n",
            "Epoch 6/75\n",
            "4/4 [==============================] - 0s 3ms/step - loss: 26.1777\n",
            "Epoch 7/75\n",
            "4/4 [==============================] - 0s 3ms/step - loss: 25.8187\n",
            "Epoch 8/75\n",
            "4/4 [==============================] - 0s 3ms/step - loss: 25.4332\n",
            "Epoch 9/75\n",
            "4/4 [==============================] - 0s 3ms/step - loss: 25.0696\n",
            "Epoch 10/75\n",
            "4/4 [==============================] - 0s 3ms/step - loss: 24.6296\n",
            "Epoch 11/75\n",
            "4/4 [==============================] - 0s 3ms/step - loss: 24.2150\n",
            "Epoch 12/75\n",
            "4/4 [==============================] - 0s 3ms/step - loss: 23.8054\n",
            "Epoch 13/75\n",
            "4/4 [==============================] - 0s 3ms/step - loss: 23.3798\n",
            "Epoch 14/75\n",
            "4/4 [==============================] - 0s 3ms/step - loss: 22.9244\n",
            "Epoch 15/75\n",
            "4/4 [==============================] - 0s 4ms/step - loss: 22.4590\n",
            "Epoch 16/75\n",
            "4/4 [==============================] - 0s 3ms/step - loss: 21.9763\n",
            "Epoch 17/75\n",
            "4/4 [==============================] - 0s 3ms/step - loss: 21.5443\n",
            "Epoch 18/75\n",
            "4/4 [==============================] - 0s 3ms/step - loss: 21.0200\n",
            "Epoch 19/75\n",
            "4/4 [==============================] - 0s 3ms/step - loss: 20.5748\n",
            "Epoch 20/75\n",
            "4/4 [==============================] - 0s 3ms/step - loss: 20.0905\n",
            "Epoch 21/75\n",
            "4/4 [==============================] - 0s 3ms/step - loss: 19.5356\n",
            "Epoch 22/75\n",
            "4/4 [==============================] - 0s 3ms/step - loss: 19.0714\n",
            "Epoch 23/75\n",
            "4/4 [==============================] - 0s 3ms/step - loss: 18.5380\n",
            "Epoch 24/75\n",
            "4/4 [==============================] - 0s 3ms/step - loss: 17.9910\n",
            "Epoch 25/75\n",
            "4/4 [==============================] - 0s 3ms/step - loss: 17.5154\n",
            "Epoch 26/75\n",
            "4/4 [==============================] - 0s 3ms/step - loss: 16.9805\n",
            "Epoch 27/75\n",
            "4/4 [==============================] - 0s 3ms/step - loss: 16.4392\n",
            "Epoch 28/75\n",
            "4/4 [==============================] - 0s 3ms/step - loss: 15.9331\n",
            "Epoch 29/75\n",
            "4/4 [==============================] - 0s 3ms/step - loss: 15.4040\n",
            "Epoch 30/75\n",
            "4/4 [==============================] - 0s 3ms/step - loss: 14.8468\n",
            "Epoch 31/75\n",
            "4/4 [==============================] - 0s 3ms/step - loss: 14.3119\n",
            "Epoch 32/75\n",
            "4/4 [==============================] - 0s 3ms/step - loss: 13.8404\n",
            "Epoch 33/75\n",
            "4/4 [==============================] - 0s 3ms/step - loss: 13.2872\n",
            "Epoch 34/75\n",
            "4/4 [==============================] - 0s 3ms/step - loss: 12.7736\n",
            "Epoch 35/75\n",
            "4/4 [==============================] - 0s 3ms/step - loss: 12.3056\n",
            "Epoch 36/75\n",
            "4/4 [==============================] - 0s 3ms/step - loss: 11.8204\n",
            "Epoch 37/75\n",
            "4/4 [==============================] - 0s 4ms/step - loss: 11.2608\n",
            "Epoch 38/75\n",
            "4/4 [==============================] - 0s 3ms/step - loss: 10.8402\n",
            "Epoch 39/75\n",
            "4/4 [==============================] - 0s 3ms/step - loss: 10.3448\n",
            "Epoch 40/75\n",
            "4/4 [==============================] - 0s 3ms/step - loss: 9.8709\n",
            "Epoch 41/75\n",
            "4/4 [==============================] - 0s 4ms/step - loss: 9.3641\n",
            "Epoch 42/75\n",
            "4/4 [==============================] - 0s 3ms/step - loss: 8.9542\n",
            "Epoch 43/75\n",
            "4/4 [==============================] - 0s 3ms/step - loss: 8.5688\n",
            "Epoch 44/75\n",
            "4/4 [==============================] - 0s 4ms/step - loss: 8.0791\n",
            "Epoch 45/75\n",
            "4/4 [==============================] - 0s 3ms/step - loss: 7.7256\n",
            "Epoch 46/75\n",
            "4/4 [==============================] - 0s 3ms/step - loss: 7.2521\n",
            "Epoch 47/75\n",
            "4/4 [==============================] - 0s 3ms/step - loss: 6.9453\n",
            "Epoch 48/75\n",
            "4/4 [==============================] - 0s 3ms/step - loss: 6.4916\n",
            "Epoch 49/75\n",
            "4/4 [==============================] - 0s 3ms/step - loss: 6.2024\n",
            "Epoch 50/75\n",
            "4/4 [==============================] - 0s 3ms/step - loss: 5.8068\n",
            "Epoch 51/75\n",
            "4/4 [==============================] - 0s 3ms/step - loss: 5.5277\n",
            "Epoch 52/75\n",
            "4/4 [==============================] - 0s 3ms/step - loss: 5.1678\n",
            "Epoch 53/75\n",
            "4/4 [==============================] - 0s 3ms/step - loss: 4.8932\n",
            "Epoch 54/75\n",
            "4/4 [==============================] - 0s 3ms/step - loss: 4.6538\n",
            "Epoch 55/75\n",
            "4/4 [==============================] - 0s 3ms/step - loss: 4.3392\n",
            "Epoch 56/75\n",
            "4/4 [==============================] - 0s 3ms/step - loss: 4.1000\n",
            "Epoch 57/75\n",
            "4/4 [==============================] - 0s 4ms/step - loss: 3.8332\n",
            "Epoch 58/75\n",
            "4/4 [==============================] - 0s 3ms/step - loss: 3.5891\n",
            "Epoch 59/75\n",
            "4/4 [==============================] - 0s 3ms/step - loss: 3.4166\n",
            "Epoch 60/75\n",
            "4/4 [==============================] - 0s 3ms/step - loss: 3.2061\n",
            "Epoch 61/75\n",
            "4/4 [==============================] - 0s 3ms/step - loss: 3.0050\n",
            "Epoch 62/75\n",
            "4/4 [==============================] - 0s 3ms/step - loss: 2.8465\n",
            "Epoch 63/75\n",
            "4/4 [==============================] - 0s 3ms/step - loss: 2.6710\n",
            "Epoch 64/75\n",
            "4/4 [==============================] - 0s 3ms/step - loss: 2.5154\n",
            "Epoch 65/75\n",
            "4/4 [==============================] - 0s 3ms/step - loss: 2.3842\n",
            "Epoch 66/75\n",
            "4/4 [==============================] - 0s 3ms/step - loss: 2.2921\n",
            "Epoch 67/75\n",
            "4/4 [==============================] - 0s 3ms/step - loss: 2.1332\n",
            "Epoch 68/75\n",
            "4/4 [==============================] - 0s 3ms/step - loss: 2.0118\n",
            "Epoch 69/75\n",
            "4/4 [==============================] - 0s 3ms/step - loss: 1.9177\n",
            "Epoch 70/75\n",
            "4/4 [==============================] - 0s 3ms/step - loss: 1.8383\n",
            "Epoch 71/75\n",
            "4/4 [==============================] - 0s 3ms/step - loss: 1.7541\n",
            "Epoch 72/75\n",
            "4/4 [==============================] - 0s 3ms/step - loss: 1.6776\n",
            "Epoch 73/75\n",
            "4/4 [==============================] - 0s 3ms/step - loss: 1.6089\n",
            "Epoch 74/75\n",
            "4/4 [==============================] - 0s 3ms/step - loss: 1.5787\n",
            "Epoch 75/75\n",
            "4/4 [==============================] - 0s 3ms/step - loss: 1.4954\n"
          ]
        },
        {
          "output_type": "execute_result",
          "data": {
            "text/plain": [
              "<keras.src.callbacks.History at 0x7e7a42d3d9f0>"
            ]
          },
          "metadata": {},
          "execution_count": 23
        }
      ]
    },
    {
      "cell_type": "code",
      "source": [
        "model.get_weights()"
      ],
      "metadata": {
        "colab": {
          "base_uri": "https://localhost:8080/"
        },
        "id": "FoDnoOOYUB4c",
        "outputId": "660ffbc0-3a08-4344-919c-fd0b9dcde586"
      },
      "execution_count": 24,
      "outputs": [
        {
          "output_type": "execute_result",
          "data": {
            "text/plain": [
              "[array([[0.37374517, 0.37374517],\n",
              "        [0.3658955 , 0.3658955 ]], dtype=float32),\n",
              " array([0.27254042, 0.27254042], dtype=float32),\n",
              " array([[0.37315136],\n",
              "        [0.37315136]], dtype=float32),\n",
              " array([0.20500515], dtype=float32)]"
            ]
          },
          "metadata": {},
          "execution_count": 24
        }
      ]
    },
    {
      "cell_type": "code",
      "source": [],
      "metadata": {
        "id": "7Qrc_cnAUIQl"
      },
      "execution_count": null,
      "outputs": []
    }
  ]
}