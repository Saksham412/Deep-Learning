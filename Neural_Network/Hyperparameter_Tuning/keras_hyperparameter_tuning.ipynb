{
  "nbformat": 4,
  "nbformat_minor": 0,
  "metadata": {
    "colab": {
      "provenance": []
    },
    "kernelspec": {
      "name": "python3",
      "display_name": "Python 3"
    },
    "language_info": {
      "name": "python"
    }
  },
  "cells": [
    {
      "cell_type": "code",
      "execution_count": 1,
      "metadata": {
        "id": "hOPgMuc-RtMF"
      },
      "outputs": [],
      "source": [
        "import numpy as np\n",
        "import pandas as pd"
      ]
    },
    {
      "cell_type": "code",
      "source": [
        "df = pd.read_csv('diabetes.csv')"
      ],
      "metadata": {
        "id": "_1r_TEoGR5VV"
      },
      "execution_count": 2,
      "outputs": []
    },
    {
      "cell_type": "code",
      "source": [
        "df.head()"
      ],
      "metadata": {
        "colab": {
          "base_uri": "https://localhost:8080/",
          "height": 226
        },
        "id": "FE-vZeBaSAE_",
        "outputId": "f384bb17-b03c-4d29-9379-5f32ed01b660"
      },
      "execution_count": 3,
      "outputs": [
        {
          "output_type": "execute_result",
          "data": {
            "text/plain": [
              "   Pregnancies  Glucose  BloodPressure  SkinThickness  Insulin   BMI  \\\n",
              "0            6      148             72             35        0  33.6   \n",
              "1            1       85             66             29        0  26.6   \n",
              "2            8      183             64              0        0  23.3   \n",
              "3            1       89             66             23       94  28.1   \n",
              "4            0      137             40             35      168  43.1   \n",
              "\n",
              "   DiabetesPedigreeFunction  Age  Outcome  \n",
              "0                     0.627   50        1  \n",
              "1                     0.351   31        0  \n",
              "2                     0.672   32        1  \n",
              "3                     0.167   21        0  \n",
              "4                     2.288   33        1  "
            ],
            "text/html": [
              "\n",
              "  <div id=\"df-3c2dd513-c4ba-4009-8c7e-387fd94be42a\" class=\"colab-df-container\">\n",
              "    <div>\n",
              "<style scoped>\n",
              "    .dataframe tbody tr th:only-of-type {\n",
              "        vertical-align: middle;\n",
              "    }\n",
              "\n",
              "    .dataframe tbody tr th {\n",
              "        vertical-align: top;\n",
              "    }\n",
              "\n",
              "    .dataframe thead th {\n",
              "        text-align: right;\n",
              "    }\n",
              "</style>\n",
              "<table border=\"1\" class=\"dataframe\">\n",
              "  <thead>\n",
              "    <tr style=\"text-align: right;\">\n",
              "      <th></th>\n",
              "      <th>Pregnancies</th>\n",
              "      <th>Glucose</th>\n",
              "      <th>BloodPressure</th>\n",
              "      <th>SkinThickness</th>\n",
              "      <th>Insulin</th>\n",
              "      <th>BMI</th>\n",
              "      <th>DiabetesPedigreeFunction</th>\n",
              "      <th>Age</th>\n",
              "      <th>Outcome</th>\n",
              "    </tr>\n",
              "  </thead>\n",
              "  <tbody>\n",
              "    <tr>\n",
              "      <th>0</th>\n",
              "      <td>6</td>\n",
              "      <td>148</td>\n",
              "      <td>72</td>\n",
              "      <td>35</td>\n",
              "      <td>0</td>\n",
              "      <td>33.6</td>\n",
              "      <td>0.627</td>\n",
              "      <td>50</td>\n",
              "      <td>1</td>\n",
              "    </tr>\n",
              "    <tr>\n",
              "      <th>1</th>\n",
              "      <td>1</td>\n",
              "      <td>85</td>\n",
              "      <td>66</td>\n",
              "      <td>29</td>\n",
              "      <td>0</td>\n",
              "      <td>26.6</td>\n",
              "      <td>0.351</td>\n",
              "      <td>31</td>\n",
              "      <td>0</td>\n",
              "    </tr>\n",
              "    <tr>\n",
              "      <th>2</th>\n",
              "      <td>8</td>\n",
              "      <td>183</td>\n",
              "      <td>64</td>\n",
              "      <td>0</td>\n",
              "      <td>0</td>\n",
              "      <td>23.3</td>\n",
              "      <td>0.672</td>\n",
              "      <td>32</td>\n",
              "      <td>1</td>\n",
              "    </tr>\n",
              "    <tr>\n",
              "      <th>3</th>\n",
              "      <td>1</td>\n",
              "      <td>89</td>\n",
              "      <td>66</td>\n",
              "      <td>23</td>\n",
              "      <td>94</td>\n",
              "      <td>28.1</td>\n",
              "      <td>0.167</td>\n",
              "      <td>21</td>\n",
              "      <td>0</td>\n",
              "    </tr>\n",
              "    <tr>\n",
              "      <th>4</th>\n",
              "      <td>0</td>\n",
              "      <td>137</td>\n",
              "      <td>40</td>\n",
              "      <td>35</td>\n",
              "      <td>168</td>\n",
              "      <td>43.1</td>\n",
              "      <td>2.288</td>\n",
              "      <td>33</td>\n",
              "      <td>1</td>\n",
              "    </tr>\n",
              "  </tbody>\n",
              "</table>\n",
              "</div>\n",
              "    <div class=\"colab-df-buttons\">\n",
              "\n",
              "  <div class=\"colab-df-container\">\n",
              "    <button class=\"colab-df-convert\" onclick=\"convertToInteractive('df-3c2dd513-c4ba-4009-8c7e-387fd94be42a')\"\n",
              "            title=\"Convert this dataframe to an interactive table.\"\n",
              "            style=\"display:none;\">\n",
              "\n",
              "  <svg xmlns=\"http://www.w3.org/2000/svg\" height=\"24px\" viewBox=\"0 -960 960 960\">\n",
              "    <path d=\"M120-120v-720h720v720H120Zm60-500h600v-160H180v160Zm220 220h160v-160H400v160Zm0 220h160v-160H400v160ZM180-400h160v-160H180v160Zm440 0h160v-160H620v160ZM180-180h160v-160H180v160Zm440 0h160v-160H620v160Z\"/>\n",
              "  </svg>\n",
              "    </button>\n",
              "\n",
              "  <style>\n",
              "    .colab-df-container {\n",
              "      display:flex;\n",
              "      gap: 12px;\n",
              "    }\n",
              "\n",
              "    .colab-df-convert {\n",
              "      background-color: #E8F0FE;\n",
              "      border: none;\n",
              "      border-radius: 50%;\n",
              "      cursor: pointer;\n",
              "      display: none;\n",
              "      fill: #1967D2;\n",
              "      height: 32px;\n",
              "      padding: 0 0 0 0;\n",
              "      width: 32px;\n",
              "    }\n",
              "\n",
              "    .colab-df-convert:hover {\n",
              "      background-color: #E2EBFA;\n",
              "      box-shadow: 0px 1px 2px rgba(60, 64, 67, 0.3), 0px 1px 3px 1px rgba(60, 64, 67, 0.15);\n",
              "      fill: #174EA6;\n",
              "    }\n",
              "\n",
              "    .colab-df-buttons div {\n",
              "      margin-bottom: 4px;\n",
              "    }\n",
              "\n",
              "    [theme=dark] .colab-df-convert {\n",
              "      background-color: #3B4455;\n",
              "      fill: #D2E3FC;\n",
              "    }\n",
              "\n",
              "    [theme=dark] .colab-df-convert:hover {\n",
              "      background-color: #434B5C;\n",
              "      box-shadow: 0px 1px 3px 1px rgba(0, 0, 0, 0.15);\n",
              "      filter: drop-shadow(0px 1px 2px rgba(0, 0, 0, 0.3));\n",
              "      fill: #FFFFFF;\n",
              "    }\n",
              "  </style>\n",
              "\n",
              "    <script>\n",
              "      const buttonEl =\n",
              "        document.querySelector('#df-3c2dd513-c4ba-4009-8c7e-387fd94be42a button.colab-df-convert');\n",
              "      buttonEl.style.display =\n",
              "        google.colab.kernel.accessAllowed ? 'block' : 'none';\n",
              "\n",
              "      async function convertToInteractive(key) {\n",
              "        const element = document.querySelector('#df-3c2dd513-c4ba-4009-8c7e-387fd94be42a');\n",
              "        const dataTable =\n",
              "          await google.colab.kernel.invokeFunction('convertToInteractive',\n",
              "                                                    [key], {});\n",
              "        if (!dataTable) return;\n",
              "\n",
              "        const docLinkHtml = 'Like what you see? Visit the ' +\n",
              "          '<a target=\"_blank\" href=https://colab.research.google.com/notebooks/data_table.ipynb>data table notebook</a>'\n",
              "          + ' to learn more about interactive tables.';\n",
              "        element.innerHTML = '';\n",
              "        dataTable['output_type'] = 'display_data';\n",
              "        await google.colab.output.renderOutput(dataTable, element);\n",
              "        const docLink = document.createElement('div');\n",
              "        docLink.innerHTML = docLinkHtml;\n",
              "        element.appendChild(docLink);\n",
              "      }\n",
              "    </script>\n",
              "  </div>\n",
              "\n",
              "\n",
              "<div id=\"df-f46ee47a-704f-445b-ba82-0907bc7d2b2c\">\n",
              "  <button class=\"colab-df-quickchart\" onclick=\"quickchart('df-f46ee47a-704f-445b-ba82-0907bc7d2b2c')\"\n",
              "            title=\"Suggest charts\"\n",
              "            style=\"display:none;\">\n",
              "\n",
              "<svg xmlns=\"http://www.w3.org/2000/svg\" height=\"24px\"viewBox=\"0 0 24 24\"\n",
              "     width=\"24px\">\n",
              "    <g>\n",
              "        <path d=\"M19 3H5c-1.1 0-2 .9-2 2v14c0 1.1.9 2 2 2h14c1.1 0 2-.9 2-2V5c0-1.1-.9-2-2-2zM9 17H7v-7h2v7zm4 0h-2V7h2v10zm4 0h-2v-4h2v4z\"/>\n",
              "    </g>\n",
              "</svg>\n",
              "  </button>\n",
              "\n",
              "<style>\n",
              "  .colab-df-quickchart {\n",
              "      --bg-color: #E8F0FE;\n",
              "      --fill-color: #1967D2;\n",
              "      --hover-bg-color: #E2EBFA;\n",
              "      --hover-fill-color: #174EA6;\n",
              "      --disabled-fill-color: #AAA;\n",
              "      --disabled-bg-color: #DDD;\n",
              "  }\n",
              "\n",
              "  [theme=dark] .colab-df-quickchart {\n",
              "      --bg-color: #3B4455;\n",
              "      --fill-color: #D2E3FC;\n",
              "      --hover-bg-color: #434B5C;\n",
              "      --hover-fill-color: #FFFFFF;\n",
              "      --disabled-bg-color: #3B4455;\n",
              "      --disabled-fill-color: #666;\n",
              "  }\n",
              "\n",
              "  .colab-df-quickchart {\n",
              "    background-color: var(--bg-color);\n",
              "    border: none;\n",
              "    border-radius: 50%;\n",
              "    cursor: pointer;\n",
              "    display: none;\n",
              "    fill: var(--fill-color);\n",
              "    height: 32px;\n",
              "    padding: 0;\n",
              "    width: 32px;\n",
              "  }\n",
              "\n",
              "  .colab-df-quickchart:hover {\n",
              "    background-color: var(--hover-bg-color);\n",
              "    box-shadow: 0 1px 2px rgba(60, 64, 67, 0.3), 0 1px 3px 1px rgba(60, 64, 67, 0.15);\n",
              "    fill: var(--button-hover-fill-color);\n",
              "  }\n",
              "\n",
              "  .colab-df-quickchart-complete:disabled,\n",
              "  .colab-df-quickchart-complete:disabled:hover {\n",
              "    background-color: var(--disabled-bg-color);\n",
              "    fill: var(--disabled-fill-color);\n",
              "    box-shadow: none;\n",
              "  }\n",
              "\n",
              "  .colab-df-spinner {\n",
              "    border: 2px solid var(--fill-color);\n",
              "    border-color: transparent;\n",
              "    border-bottom-color: var(--fill-color);\n",
              "    animation:\n",
              "      spin 1s steps(1) infinite;\n",
              "  }\n",
              "\n",
              "  @keyframes spin {\n",
              "    0% {\n",
              "      border-color: transparent;\n",
              "      border-bottom-color: var(--fill-color);\n",
              "      border-left-color: var(--fill-color);\n",
              "    }\n",
              "    20% {\n",
              "      border-color: transparent;\n",
              "      border-left-color: var(--fill-color);\n",
              "      border-top-color: var(--fill-color);\n",
              "    }\n",
              "    30% {\n",
              "      border-color: transparent;\n",
              "      border-left-color: var(--fill-color);\n",
              "      border-top-color: var(--fill-color);\n",
              "      border-right-color: var(--fill-color);\n",
              "    }\n",
              "    40% {\n",
              "      border-color: transparent;\n",
              "      border-right-color: var(--fill-color);\n",
              "      border-top-color: var(--fill-color);\n",
              "    }\n",
              "    60% {\n",
              "      border-color: transparent;\n",
              "      border-right-color: var(--fill-color);\n",
              "    }\n",
              "    80% {\n",
              "      border-color: transparent;\n",
              "      border-right-color: var(--fill-color);\n",
              "      border-bottom-color: var(--fill-color);\n",
              "    }\n",
              "    90% {\n",
              "      border-color: transparent;\n",
              "      border-bottom-color: var(--fill-color);\n",
              "    }\n",
              "  }\n",
              "</style>\n",
              "\n",
              "  <script>\n",
              "    async function quickchart(key) {\n",
              "      const quickchartButtonEl =\n",
              "        document.querySelector('#' + key + ' button');\n",
              "      quickchartButtonEl.disabled = true;  // To prevent multiple clicks.\n",
              "      quickchartButtonEl.classList.add('colab-df-spinner');\n",
              "      try {\n",
              "        const charts = await google.colab.kernel.invokeFunction(\n",
              "            'suggestCharts', [key], {});\n",
              "      } catch (error) {\n",
              "        console.error('Error during call to suggestCharts:', error);\n",
              "      }\n",
              "      quickchartButtonEl.classList.remove('colab-df-spinner');\n",
              "      quickchartButtonEl.classList.add('colab-df-quickchart-complete');\n",
              "    }\n",
              "    (() => {\n",
              "      let quickchartButtonEl =\n",
              "        document.querySelector('#df-f46ee47a-704f-445b-ba82-0907bc7d2b2c button');\n",
              "      quickchartButtonEl.style.display =\n",
              "        google.colab.kernel.accessAllowed ? 'block' : 'none';\n",
              "    })();\n",
              "  </script>\n",
              "</div>\n",
              "\n",
              "    </div>\n",
              "  </div>\n"
            ],
            "application/vnd.google.colaboratory.intrinsic+json": {
              "type": "dataframe",
              "variable_name": "df",
              "summary": "{\n  \"name\": \"df\",\n  \"rows\": 768,\n  \"fields\": [\n    {\n      \"column\": \"Pregnancies\",\n      \"properties\": {\n        \"dtype\": \"number\",\n        \"std\": 3,\n        \"min\": 0,\n        \"max\": 17,\n        \"samples\": [\n          6,\n          1,\n          3\n        ],\n        \"num_unique_values\": 17,\n        \"semantic_type\": \"\",\n        \"description\": \"\"\n      }\n    },\n    {\n      \"column\": \"Glucose\",\n      \"properties\": {\n        \"dtype\": \"number\",\n        \"std\": 31,\n        \"min\": 0,\n        \"max\": 199,\n        \"samples\": [\n          151,\n          101,\n          112\n        ],\n        \"num_unique_values\": 136,\n        \"semantic_type\": \"\",\n        \"description\": \"\"\n      }\n    },\n    {\n      \"column\": \"BloodPressure\",\n      \"properties\": {\n        \"dtype\": \"number\",\n        \"std\": 19,\n        \"min\": 0,\n        \"max\": 122,\n        \"samples\": [\n          86,\n          46,\n          85\n        ],\n        \"num_unique_values\": 47,\n        \"semantic_type\": \"\",\n        \"description\": \"\"\n      }\n    },\n    {\n      \"column\": \"SkinThickness\",\n      \"properties\": {\n        \"dtype\": \"number\",\n        \"std\": 15,\n        \"min\": 0,\n        \"max\": 99,\n        \"samples\": [\n          7,\n          12,\n          48\n        ],\n        \"num_unique_values\": 51,\n        \"semantic_type\": \"\",\n        \"description\": \"\"\n      }\n    },\n    {\n      \"column\": \"Insulin\",\n      \"properties\": {\n        \"dtype\": \"number\",\n        \"std\": 115,\n        \"min\": 0,\n        \"max\": 846,\n        \"samples\": [\n          52,\n          41,\n          183\n        ],\n        \"num_unique_values\": 186,\n        \"semantic_type\": \"\",\n        \"description\": \"\"\n      }\n    },\n    {\n      \"column\": \"BMI\",\n      \"properties\": {\n        \"dtype\": \"number\",\n        \"std\": 7.884160320375446,\n        \"min\": 0.0,\n        \"max\": 67.1,\n        \"samples\": [\n          19.9,\n          31.0,\n          38.1\n        ],\n        \"num_unique_values\": 248,\n        \"semantic_type\": \"\",\n        \"description\": \"\"\n      }\n    },\n    {\n      \"column\": \"DiabetesPedigreeFunction\",\n      \"properties\": {\n        \"dtype\": \"number\",\n        \"std\": 0.3313285950127749,\n        \"min\": 0.078,\n        \"max\": 2.42,\n        \"samples\": [\n          1.731,\n          0.426,\n          0.138\n        ],\n        \"num_unique_values\": 517,\n        \"semantic_type\": \"\",\n        \"description\": \"\"\n      }\n    },\n    {\n      \"column\": \"Age\",\n      \"properties\": {\n        \"dtype\": \"number\",\n        \"std\": 11,\n        \"min\": 21,\n        \"max\": 81,\n        \"samples\": [\n          60,\n          47,\n          72\n        ],\n        \"num_unique_values\": 52,\n        \"semantic_type\": \"\",\n        \"description\": \"\"\n      }\n    },\n    {\n      \"column\": \"Outcome\",\n      \"properties\": {\n        \"dtype\": \"number\",\n        \"std\": 0,\n        \"min\": 0,\n        \"max\": 1,\n        \"samples\": [\n          0,\n          1\n        ],\n        \"num_unique_values\": 2,\n        \"semantic_type\": \"\",\n        \"description\": \"\"\n      }\n    }\n  ]\n}"
            }
          },
          "metadata": {},
          "execution_count": 3
        }
      ]
    },
    {
      "cell_type": "code",
      "source": [
        "df.corr()['Outcome']"
      ],
      "metadata": {
        "colab": {
          "base_uri": "https://localhost:8080/"
        },
        "id": "JTSsndTdSB__",
        "outputId": "28a98055-450b-4bd1-d552-9848ac075321"
      },
      "execution_count": 5,
      "outputs": [
        {
          "output_type": "execute_result",
          "data": {
            "text/plain": [
              "Pregnancies                 0.221898\n",
              "Glucose                     0.466581\n",
              "BloodPressure               0.065068\n",
              "SkinThickness               0.074752\n",
              "Insulin                     0.130548\n",
              "BMI                         0.292695\n",
              "DiabetesPedigreeFunction    0.173844\n",
              "Age                         0.238356\n",
              "Outcome                     1.000000\n",
              "Name: Outcome, dtype: float64"
            ]
          },
          "metadata": {},
          "execution_count": 5
        }
      ]
    },
    {
      "cell_type": "code",
      "source": [
        "x = df.iloc[:,:-1].values\n",
        "y = df.iloc[:,-1].values"
      ],
      "metadata": {
        "id": "fr15NlnSSIQ6"
      },
      "execution_count": 10,
      "outputs": []
    },
    {
      "cell_type": "code",
      "source": [
        "from sklearn.preprocessing import StandardScaler"
      ],
      "metadata": {
        "id": "Z1KqCctnSbv_"
      },
      "execution_count": 8,
      "outputs": []
    },
    {
      "cell_type": "code",
      "source": [
        "scaler = StandardScaler()"
      ],
      "metadata": {
        "id": "2Z9CoY4iSkDw"
      },
      "execution_count": 9,
      "outputs": []
    },
    {
      "cell_type": "code",
      "source": [
        "X = scaler.fit_transform(x)"
      ],
      "metadata": {
        "id": "VROJJeNSSmx_"
      },
      "execution_count": 12,
      "outputs": []
    },
    {
      "cell_type": "code",
      "source": [
        "X.shape"
      ],
      "metadata": {
        "colab": {
          "base_uri": "https://localhost:8080/"
        },
        "id": "_ha1hoshStLa",
        "outputId": "9b20cd3d-6cee-4454-b7bc-dcf5d143d4b7"
      },
      "execution_count": 14,
      "outputs": [
        {
          "output_type": "execute_result",
          "data": {
            "text/plain": [
              "(768, 8)"
            ]
          },
          "metadata": {},
          "execution_count": 14
        }
      ]
    },
    {
      "cell_type": "code",
      "source": [
        "from sklearn.model_selection import train_test_split\n",
        "X_train,X_test,y_train,y_test = train_test_split(X,y,test_size = 0.2, random_state=3)"
      ],
      "metadata": {
        "id": "fsoNlEgsSxVr"
      },
      "execution_count": 15,
      "outputs": []
    },
    {
      "cell_type": "code",
      "source": [
        "import tensorflow\n",
        "from tensorflow import keras\n",
        "from keras import Sequential\n",
        "from keras.layers import Dense"
      ],
      "metadata": {
        "id": "B1vNUwChTEuv"
      },
      "execution_count": 16,
      "outputs": []
    },
    {
      "cell_type": "code",
      "source": [
        "model = Sequential()\n",
        "\n",
        "model.add(Dense(32,activation='relu',input_dim=8))\n",
        "model.add(Dense(1,activation='sigmoid'))\n",
        "\n",
        "model.compile(optimizer='Adam', loss='binary_crossentropy',metrics=['accuracy'])"
      ],
      "metadata": {
        "id": "797-pBjWTHRe"
      },
      "execution_count": 19,
      "outputs": []
    },
    {
      "cell_type": "code",
      "source": [
        "model.fit(X_train,y_train,batch_size=32,epochs=100, validation_data=(X_test,y_test))"
      ],
      "metadata": {
        "colab": {
          "base_uri": "https://localhost:8080/"
        },
        "id": "E85v7Pa7UeCq",
        "outputId": "7841b37f-01a8-4538-8f30-6709ea1e0847"
      },
      "execution_count": 20,
      "outputs": [
        {
          "output_type": "stream",
          "name": "stdout",
          "text": [
            "Epoch 1/100\n",
            "20/20 [==============================] - 1s 14ms/step - loss: 0.6531 - accuracy: 0.6042 - val_loss: 0.6726 - val_accuracy: 0.5519\n",
            "Epoch 2/100\n",
            "20/20 [==============================] - 0s 3ms/step - loss: 0.6050 - accuracy: 0.6564 - val_loss: 0.6388 - val_accuracy: 0.5844\n",
            "Epoch 3/100\n",
            "20/20 [==============================] - 0s 4ms/step - loss: 0.5720 - accuracy: 0.6954 - val_loss: 0.6135 - val_accuracy: 0.6234\n",
            "Epoch 4/100\n",
            "20/20 [==============================] - 0s 4ms/step - loss: 0.5460 - accuracy: 0.7215 - val_loss: 0.5964 - val_accuracy: 0.6234\n",
            "Epoch 5/100\n",
            "20/20 [==============================] - 0s 4ms/step - loss: 0.5276 - accuracy: 0.7378 - val_loss: 0.5828 - val_accuracy: 0.6429\n",
            "Epoch 6/100\n",
            "20/20 [==============================] - 0s 4ms/step - loss: 0.5127 - accuracy: 0.7541 - val_loss: 0.5695 - val_accuracy: 0.6688\n",
            "Epoch 7/100\n",
            "20/20 [==============================] - 0s 4ms/step - loss: 0.5002 - accuracy: 0.7704 - val_loss: 0.5616 - val_accuracy: 0.6948\n",
            "Epoch 8/100\n",
            "20/20 [==============================] - 0s 4ms/step - loss: 0.4900 - accuracy: 0.7704 - val_loss: 0.5538 - val_accuracy: 0.7013\n",
            "Epoch 9/100\n",
            "20/20 [==============================] - 0s 4ms/step - loss: 0.4818 - accuracy: 0.7736 - val_loss: 0.5461 - val_accuracy: 0.7078\n",
            "Epoch 10/100\n",
            "20/20 [==============================] - 0s 4ms/step - loss: 0.4749 - accuracy: 0.7785 - val_loss: 0.5429 - val_accuracy: 0.7208\n",
            "Epoch 11/100\n",
            "20/20 [==============================] - 0s 4ms/step - loss: 0.4687 - accuracy: 0.7866 - val_loss: 0.5383 - val_accuracy: 0.7273\n",
            "Epoch 12/100\n",
            "20/20 [==============================] - 0s 4ms/step - loss: 0.4643 - accuracy: 0.7850 - val_loss: 0.5337 - val_accuracy: 0.7468\n",
            "Epoch 13/100\n",
            "20/20 [==============================] - 0s 3ms/step - loss: 0.4600 - accuracy: 0.7834 - val_loss: 0.5307 - val_accuracy: 0.7403\n",
            "Epoch 14/100\n",
            "20/20 [==============================] - 0s 4ms/step - loss: 0.4560 - accuracy: 0.7883 - val_loss: 0.5289 - val_accuracy: 0.7532\n",
            "Epoch 15/100\n",
            "20/20 [==============================] - 0s 4ms/step - loss: 0.4533 - accuracy: 0.7899 - val_loss: 0.5260 - val_accuracy: 0.7532\n",
            "Epoch 16/100\n",
            "20/20 [==============================] - 0s 4ms/step - loss: 0.4495 - accuracy: 0.7915 - val_loss: 0.5244 - val_accuracy: 0.7532\n",
            "Epoch 17/100\n",
            "20/20 [==============================] - 0s 4ms/step - loss: 0.4468 - accuracy: 0.7948 - val_loss: 0.5225 - val_accuracy: 0.7532\n",
            "Epoch 18/100\n",
            "20/20 [==============================] - 0s 3ms/step - loss: 0.4440 - accuracy: 0.7899 - val_loss: 0.5214 - val_accuracy: 0.7532\n",
            "Epoch 19/100\n",
            "20/20 [==============================] - 0s 3ms/step - loss: 0.4422 - accuracy: 0.7932 - val_loss: 0.5211 - val_accuracy: 0.7597\n",
            "Epoch 20/100\n",
            "20/20 [==============================] - 0s 4ms/step - loss: 0.4400 - accuracy: 0.7932 - val_loss: 0.5203 - val_accuracy: 0.7662\n",
            "Epoch 21/100\n",
            "20/20 [==============================] - 0s 4ms/step - loss: 0.4382 - accuracy: 0.7964 - val_loss: 0.5204 - val_accuracy: 0.7662\n",
            "Epoch 22/100\n",
            "20/20 [==============================] - 0s 4ms/step - loss: 0.4371 - accuracy: 0.7964 - val_loss: 0.5207 - val_accuracy: 0.7662\n",
            "Epoch 23/100\n",
            "20/20 [==============================] - 0s 4ms/step - loss: 0.4352 - accuracy: 0.7980 - val_loss: 0.5207 - val_accuracy: 0.7597\n",
            "Epoch 24/100\n",
            "20/20 [==============================] - 0s 4ms/step - loss: 0.4342 - accuracy: 0.8013 - val_loss: 0.5189 - val_accuracy: 0.7532\n",
            "Epoch 25/100\n",
            "20/20 [==============================] - 0s 4ms/step - loss: 0.4331 - accuracy: 0.7997 - val_loss: 0.5187 - val_accuracy: 0.7597\n",
            "Epoch 26/100\n",
            "20/20 [==============================] - 0s 4ms/step - loss: 0.4316 - accuracy: 0.8029 - val_loss: 0.5181 - val_accuracy: 0.7662\n",
            "Epoch 27/100\n",
            "20/20 [==============================] - 0s 5ms/step - loss: 0.4299 - accuracy: 0.8013 - val_loss: 0.5186 - val_accuracy: 0.7662\n",
            "Epoch 28/100\n",
            "20/20 [==============================] - 0s 5ms/step - loss: 0.4295 - accuracy: 0.7997 - val_loss: 0.5202 - val_accuracy: 0.7597\n",
            "Epoch 29/100\n",
            "20/20 [==============================] - 0s 4ms/step - loss: 0.4279 - accuracy: 0.8029 - val_loss: 0.5200 - val_accuracy: 0.7532\n",
            "Epoch 30/100\n",
            "20/20 [==============================] - 0s 4ms/step - loss: 0.4270 - accuracy: 0.8046 - val_loss: 0.5190 - val_accuracy: 0.7597\n",
            "Epoch 31/100\n",
            "20/20 [==============================] - 0s 4ms/step - loss: 0.4262 - accuracy: 0.8062 - val_loss: 0.5188 - val_accuracy: 0.7468\n",
            "Epoch 32/100\n",
            "20/20 [==============================] - 0s 4ms/step - loss: 0.4252 - accuracy: 0.8094 - val_loss: 0.5203 - val_accuracy: 0.7468\n",
            "Epoch 33/100\n",
            "20/20 [==============================] - 0s 4ms/step - loss: 0.4249 - accuracy: 0.8078 - val_loss: 0.5211 - val_accuracy: 0.7468\n",
            "Epoch 34/100\n",
            "20/20 [==============================] - 0s 4ms/step - loss: 0.4242 - accuracy: 0.8094 - val_loss: 0.5207 - val_accuracy: 0.7532\n",
            "Epoch 35/100\n",
            "20/20 [==============================] - 0s 4ms/step - loss: 0.4230 - accuracy: 0.8111 - val_loss: 0.5206 - val_accuracy: 0.7468\n",
            "Epoch 36/100\n",
            "20/20 [==============================] - 0s 3ms/step - loss: 0.4225 - accuracy: 0.8094 - val_loss: 0.5229 - val_accuracy: 0.7532\n",
            "Epoch 37/100\n",
            "20/20 [==============================] - 0s 4ms/step - loss: 0.4216 - accuracy: 0.8111 - val_loss: 0.5220 - val_accuracy: 0.7532\n",
            "Epoch 38/100\n",
            "20/20 [==============================] - 0s 4ms/step - loss: 0.4209 - accuracy: 0.8094 - val_loss: 0.5214 - val_accuracy: 0.7532\n",
            "Epoch 39/100\n",
            "20/20 [==============================] - 0s 5ms/step - loss: 0.4204 - accuracy: 0.8094 - val_loss: 0.5222 - val_accuracy: 0.7532\n",
            "Epoch 40/100\n",
            "20/20 [==============================] - 0s 5ms/step - loss: 0.4193 - accuracy: 0.8078 - val_loss: 0.5224 - val_accuracy: 0.7532\n",
            "Epoch 41/100\n",
            "20/20 [==============================] - 0s 6ms/step - loss: 0.4187 - accuracy: 0.8046 - val_loss: 0.5225 - val_accuracy: 0.7532\n",
            "Epoch 42/100\n",
            "20/20 [==============================] - 0s 6ms/step - loss: 0.4182 - accuracy: 0.8111 - val_loss: 0.5223 - val_accuracy: 0.7468\n",
            "Epoch 43/100\n",
            "20/20 [==============================] - 0s 5ms/step - loss: 0.4181 - accuracy: 0.8078 - val_loss: 0.5219 - val_accuracy: 0.7468\n",
            "Epoch 44/100\n",
            "20/20 [==============================] - 0s 5ms/step - loss: 0.4179 - accuracy: 0.8078 - val_loss: 0.5229 - val_accuracy: 0.7532\n",
            "Epoch 45/100\n",
            "20/20 [==============================] - 0s 5ms/step - loss: 0.4170 - accuracy: 0.8094 - val_loss: 0.5226 - val_accuracy: 0.7532\n",
            "Epoch 46/100\n",
            "20/20 [==============================] - 0s 6ms/step - loss: 0.4162 - accuracy: 0.8111 - val_loss: 0.5213 - val_accuracy: 0.7532\n",
            "Epoch 47/100\n",
            "20/20 [==============================] - 0s 5ms/step - loss: 0.4156 - accuracy: 0.8094 - val_loss: 0.5198 - val_accuracy: 0.7532\n",
            "Epoch 48/100\n",
            "20/20 [==============================] - 0s 6ms/step - loss: 0.4152 - accuracy: 0.8111 - val_loss: 0.5209 - val_accuracy: 0.7532\n",
            "Epoch 49/100\n",
            "20/20 [==============================] - 0s 6ms/step - loss: 0.4152 - accuracy: 0.8127 - val_loss: 0.5224 - val_accuracy: 0.7468\n",
            "Epoch 50/100\n",
            "20/20 [==============================] - 0s 5ms/step - loss: 0.4141 - accuracy: 0.8127 - val_loss: 0.5225 - val_accuracy: 0.7468\n",
            "Epoch 51/100\n",
            "20/20 [==============================] - 0s 5ms/step - loss: 0.4137 - accuracy: 0.8111 - val_loss: 0.5232 - val_accuracy: 0.7532\n",
            "Epoch 52/100\n",
            "20/20 [==============================] - 0s 5ms/step - loss: 0.4135 - accuracy: 0.8127 - val_loss: 0.5245 - val_accuracy: 0.7468\n",
            "Epoch 53/100\n",
            "20/20 [==============================] - 0s 7ms/step - loss: 0.4130 - accuracy: 0.8111 - val_loss: 0.5251 - val_accuracy: 0.7403\n",
            "Epoch 54/100\n",
            "20/20 [==============================] - 0s 6ms/step - loss: 0.4131 - accuracy: 0.8127 - val_loss: 0.5241 - val_accuracy: 0.7468\n",
            "Epoch 55/100\n",
            "20/20 [==============================] - 0s 6ms/step - loss: 0.4126 - accuracy: 0.8143 - val_loss: 0.5240 - val_accuracy: 0.7532\n",
            "Epoch 56/100\n",
            "20/20 [==============================] - 0s 6ms/step - loss: 0.4118 - accuracy: 0.8127 - val_loss: 0.5255 - val_accuracy: 0.7532\n",
            "Epoch 57/100\n",
            "20/20 [==============================] - 0s 7ms/step - loss: 0.4113 - accuracy: 0.8078 - val_loss: 0.5251 - val_accuracy: 0.7532\n",
            "Epoch 58/100\n",
            "20/20 [==============================] - 0s 6ms/step - loss: 0.4108 - accuracy: 0.8111 - val_loss: 0.5241 - val_accuracy: 0.7532\n",
            "Epoch 59/100\n",
            "20/20 [==============================] - 0s 7ms/step - loss: 0.4102 - accuracy: 0.8127 - val_loss: 0.5252 - val_accuracy: 0.7532\n",
            "Epoch 60/100\n",
            "20/20 [==============================] - 0s 6ms/step - loss: 0.4100 - accuracy: 0.8111 - val_loss: 0.5276 - val_accuracy: 0.7532\n",
            "Epoch 61/100\n",
            "20/20 [==============================] - 0s 4ms/step - loss: 0.4100 - accuracy: 0.8111 - val_loss: 0.5259 - val_accuracy: 0.7532\n",
            "Epoch 62/100\n",
            "20/20 [==============================] - 0s 5ms/step - loss: 0.4088 - accuracy: 0.8127 - val_loss: 0.5276 - val_accuracy: 0.7532\n",
            "Epoch 63/100\n",
            "20/20 [==============================] - 0s 4ms/step - loss: 0.4083 - accuracy: 0.8127 - val_loss: 0.5274 - val_accuracy: 0.7597\n",
            "Epoch 64/100\n",
            "20/20 [==============================] - 0s 4ms/step - loss: 0.4079 - accuracy: 0.8111 - val_loss: 0.5272 - val_accuracy: 0.7597\n",
            "Epoch 65/100\n",
            "20/20 [==============================] - 0s 4ms/step - loss: 0.4076 - accuracy: 0.8111 - val_loss: 0.5271 - val_accuracy: 0.7662\n",
            "Epoch 66/100\n",
            "20/20 [==============================] - 0s 4ms/step - loss: 0.4071 - accuracy: 0.8160 - val_loss: 0.5282 - val_accuracy: 0.7597\n",
            "Epoch 67/100\n",
            "20/20 [==============================] - 0s 3ms/step - loss: 0.4070 - accuracy: 0.8127 - val_loss: 0.5286 - val_accuracy: 0.7662\n",
            "Epoch 68/100\n",
            "20/20 [==============================] - 0s 4ms/step - loss: 0.4073 - accuracy: 0.8094 - val_loss: 0.5278 - val_accuracy: 0.7597\n",
            "Epoch 69/100\n",
            "20/20 [==============================] - 0s 4ms/step - loss: 0.4058 - accuracy: 0.8062 - val_loss: 0.5278 - val_accuracy: 0.7532\n",
            "Epoch 70/100\n",
            "20/20 [==============================] - 0s 3ms/step - loss: 0.4051 - accuracy: 0.8094 - val_loss: 0.5262 - val_accuracy: 0.7597\n",
            "Epoch 71/100\n",
            "20/20 [==============================] - 0s 4ms/step - loss: 0.4051 - accuracy: 0.8111 - val_loss: 0.5281 - val_accuracy: 0.7532\n",
            "Epoch 72/100\n",
            "20/20 [==============================] - 0s 4ms/step - loss: 0.4041 - accuracy: 0.8127 - val_loss: 0.5289 - val_accuracy: 0.7597\n",
            "Epoch 73/100\n",
            "20/20 [==============================] - 0s 5ms/step - loss: 0.4041 - accuracy: 0.8078 - val_loss: 0.5280 - val_accuracy: 0.7597\n",
            "Epoch 74/100\n",
            "20/20 [==============================] - 0s 3ms/step - loss: 0.4037 - accuracy: 0.8127 - val_loss: 0.5301 - val_accuracy: 0.7532\n",
            "Epoch 75/100\n",
            "20/20 [==============================] - 0s 4ms/step - loss: 0.4030 - accuracy: 0.8111 - val_loss: 0.5307 - val_accuracy: 0.7597\n",
            "Epoch 76/100\n",
            "20/20 [==============================] - 0s 4ms/step - loss: 0.4027 - accuracy: 0.8094 - val_loss: 0.5308 - val_accuracy: 0.7597\n",
            "Epoch 77/100\n",
            "20/20 [==============================] - 0s 4ms/step - loss: 0.4025 - accuracy: 0.8078 - val_loss: 0.5323 - val_accuracy: 0.7532\n",
            "Epoch 78/100\n",
            "20/20 [==============================] - 0s 4ms/step - loss: 0.4022 - accuracy: 0.8094 - val_loss: 0.5327 - val_accuracy: 0.7597\n",
            "Epoch 79/100\n",
            "20/20 [==============================] - 0s 4ms/step - loss: 0.4013 - accuracy: 0.8078 - val_loss: 0.5308 - val_accuracy: 0.7532\n",
            "Epoch 80/100\n",
            "20/20 [==============================] - 0s 4ms/step - loss: 0.4012 - accuracy: 0.8094 - val_loss: 0.5318 - val_accuracy: 0.7468\n",
            "Epoch 81/100\n",
            "20/20 [==============================] - 0s 4ms/step - loss: 0.4010 - accuracy: 0.8078 - val_loss: 0.5313 - val_accuracy: 0.7468\n",
            "Epoch 82/100\n",
            "20/20 [==============================] - 0s 3ms/step - loss: 0.4002 - accuracy: 0.8111 - val_loss: 0.5327 - val_accuracy: 0.7532\n",
            "Epoch 83/100\n",
            "20/20 [==============================] - 0s 4ms/step - loss: 0.3996 - accuracy: 0.8094 - val_loss: 0.5320 - val_accuracy: 0.7532\n",
            "Epoch 84/100\n",
            "20/20 [==============================] - 0s 4ms/step - loss: 0.3994 - accuracy: 0.8078 - val_loss: 0.5336 - val_accuracy: 0.7597\n",
            "Epoch 85/100\n",
            "20/20 [==============================] - 0s 5ms/step - loss: 0.3988 - accuracy: 0.8094 - val_loss: 0.5343 - val_accuracy: 0.7532\n",
            "Epoch 86/100\n",
            "20/20 [==============================] - 0s 4ms/step - loss: 0.3987 - accuracy: 0.8094 - val_loss: 0.5333 - val_accuracy: 0.7468\n",
            "Epoch 87/100\n",
            "20/20 [==============================] - 0s 4ms/step - loss: 0.3982 - accuracy: 0.8127 - val_loss: 0.5333 - val_accuracy: 0.7532\n",
            "Epoch 88/100\n",
            "20/20 [==============================] - 0s 4ms/step - loss: 0.3979 - accuracy: 0.8127 - val_loss: 0.5341 - val_accuracy: 0.7532\n",
            "Epoch 89/100\n",
            "20/20 [==============================] - 0s 4ms/step - loss: 0.3977 - accuracy: 0.8143 - val_loss: 0.5336 - val_accuracy: 0.7468\n",
            "Epoch 90/100\n",
            "20/20 [==============================] - 0s 4ms/step - loss: 0.3973 - accuracy: 0.8094 - val_loss: 0.5351 - val_accuracy: 0.7468\n",
            "Epoch 91/100\n",
            "20/20 [==============================] - 0s 3ms/step - loss: 0.3971 - accuracy: 0.8111 - val_loss: 0.5355 - val_accuracy: 0.7597\n",
            "Epoch 92/100\n",
            "20/20 [==============================] - 0s 4ms/step - loss: 0.3966 - accuracy: 0.8160 - val_loss: 0.5354 - val_accuracy: 0.7597\n",
            "Epoch 93/100\n",
            "20/20 [==============================] - 0s 3ms/step - loss: 0.3961 - accuracy: 0.8143 - val_loss: 0.5361 - val_accuracy: 0.7597\n",
            "Epoch 94/100\n",
            "20/20 [==============================] - 0s 4ms/step - loss: 0.3959 - accuracy: 0.8127 - val_loss: 0.5351 - val_accuracy: 0.7532\n",
            "Epoch 95/100\n",
            "20/20 [==============================] - 0s 3ms/step - loss: 0.3955 - accuracy: 0.8062 - val_loss: 0.5334 - val_accuracy: 0.7532\n",
            "Epoch 96/100\n",
            "20/20 [==============================] - 0s 3ms/step - loss: 0.3958 - accuracy: 0.8013 - val_loss: 0.5318 - val_accuracy: 0.7532\n",
            "Epoch 97/100\n",
            "20/20 [==============================] - 0s 4ms/step - loss: 0.3952 - accuracy: 0.8029 - val_loss: 0.5338 - val_accuracy: 0.7532\n",
            "Epoch 98/100\n",
            "20/20 [==============================] - 0s 4ms/step - loss: 0.3946 - accuracy: 0.8094 - val_loss: 0.5363 - val_accuracy: 0.7597\n",
            "Epoch 99/100\n",
            "20/20 [==============================] - 0s 4ms/step - loss: 0.3948 - accuracy: 0.8111 - val_loss: 0.5360 - val_accuracy: 0.7597\n",
            "Epoch 100/100\n",
            "20/20 [==============================] - 0s 4ms/step - loss: 0.3954 - accuracy: 0.8078 - val_loss: 0.5366 - val_accuracy: 0.7597\n"
          ]
        },
        {
          "output_type": "execute_result",
          "data": {
            "text/plain": [
              "<keras.src.callbacks.History at 0x78f2ac535000>"
            ]
          },
          "metadata": {},
          "execution_count": 20
        }
      ]
    },
    {
      "cell_type": "code",
      "source": [
        "# How to select appropricate optimizer\n",
        "# No. of nodes in a layer\n",
        "# How to select no. of layers\n",
        "# All in one model"
      ],
      "metadata": {
        "id": "hJlo7Q0qUkZ8"
      },
      "execution_count": 21,
      "outputs": []
    },
    {
      "cell_type": "code",
      "source": [
        "pip install -U keras-tuner"
      ],
      "metadata": {
        "colab": {
          "base_uri": "https://localhost:8080/"
        },
        "id": "29z5yWDvgGB_",
        "outputId": "12c780cf-ee5a-48e2-d9ef-4070202aee59"
      },
      "execution_count": 24,
      "outputs": [
        {
          "output_type": "stream",
          "name": "stdout",
          "text": [
            "Collecting keras-tuner\n",
            "  Downloading keras_tuner-1.4.6-py3-none-any.whl (128 kB)\n",
            "\u001b[2K     \u001b[90m━━━━━━━━━━━━━━━━━━━━━━━━━━━━━━━━━━━━━━━━\u001b[0m \u001b[32m128.9/128.9 kB\u001b[0m \u001b[31m1.5 MB/s\u001b[0m eta \u001b[36m0:00:00\u001b[0m\n",
            "\u001b[?25hRequirement already satisfied: keras in /usr/local/lib/python3.10/dist-packages (from keras-tuner) (2.15.0)\n",
            "Requirement already satisfied: packaging in /usr/local/lib/python3.10/dist-packages (from keras-tuner) (23.2)\n",
            "Requirement already satisfied: requests in /usr/local/lib/python3.10/dist-packages (from keras-tuner) (2.31.0)\n",
            "Collecting kt-legacy (from keras-tuner)\n",
            "  Downloading kt_legacy-1.0.5-py3-none-any.whl (9.6 kB)\n",
            "Requirement already satisfied: charset-normalizer<4,>=2 in /usr/local/lib/python3.10/dist-packages (from requests->keras-tuner) (3.3.2)\n",
            "Requirement already satisfied: idna<4,>=2.5 in /usr/local/lib/python3.10/dist-packages (from requests->keras-tuner) (3.6)\n",
            "Requirement already satisfied: urllib3<3,>=1.21.1 in /usr/local/lib/python3.10/dist-packages (from requests->keras-tuner) (2.0.7)\n",
            "Requirement already satisfied: certifi>=2017.4.17 in /usr/local/lib/python3.10/dist-packages (from requests->keras-tuner) (2024.2.2)\n",
            "Installing collected packages: kt-legacy, keras-tuner\n",
            "Successfully installed keras-tuner-1.4.6 kt-legacy-1.0.5\n"
          ]
        }
      ]
    },
    {
      "cell_type": "code",
      "source": [
        "import kerastuner as kt"
      ],
      "metadata": {
        "colab": {
          "base_uri": "https://localhost:8080/"
        },
        "id": "3tIYyckPfrSW",
        "outputId": "ee42ff98-c164-479f-9e74-520b9c8bfbc9"
      },
      "execution_count": 26,
      "outputs": [
        {
          "output_type": "stream",
          "name": "stderr",
          "text": [
            "<ipython-input-26-5fd8096cdee5>:1: DeprecationWarning: `import kerastuner` is deprecated, please use `import keras_tuner`.\n",
            "  import kerastuner as kt\n"
          ]
        }
      ]
    },
    {
      "cell_type": "code",
      "source": [
        "def build_model(hp):\n",
        "  model = Sequential()\n",
        "\n",
        "  model.add(Dense(32,activation='relu',input_dim=8))\n",
        "  model.add(Dense(1,activation='sigmoid'))\n",
        "\n",
        "  optimizer = hp.Choice('optimizer', values=['adam','sgd','rmsprop','adadelta'])\n",
        "\n",
        "  model.compile(optimizer = optimizer, loss=\"binary_crossentropy\", metrics=['accuracy'])\n",
        "\n",
        "  return model"
      ],
      "metadata": {
        "id": "8uVn4fOKgMiR"
      },
      "execution_count": 37,
      "outputs": []
    },
    {
      "cell_type": "code",
      "source": [
        "tuner = kt.RandomSearch(build_model, objective='val_accuracy',max_trials=5)"
      ],
      "metadata": {
        "colab": {
          "base_uri": "https://localhost:8080/"
        },
        "id": "tgmlYTL1lNK0",
        "outputId": "272bed1f-0a2c-4853-90bb-f12920deedcc"
      },
      "execution_count": 38,
      "outputs": [
        {
          "output_type": "stream",
          "name": "stdout",
          "text": [
            "Reloading Tuner from ./untitled_project/tuner0.json\n"
          ]
        }
      ]
    },
    {
      "cell_type": "code",
      "source": [
        "tuner.search(X_train,y_train,epochs=10,validation_data=(X_test,y_test))"
      ],
      "metadata": {
        "id": "vwXxYK8JlZUw"
      },
      "execution_count": 39,
      "outputs": []
    },
    {
      "cell_type": "code",
      "source": [
        "tuner.get_best_hyperparameters()[0].values"
      ],
      "metadata": {
        "colab": {
          "base_uri": "https://localhost:8080/"
        },
        "id": "zYFA1zFfloIw",
        "outputId": "c47aeb52-27c4-4ba0-c6c7-3a7c0c93d7f0"
      },
      "execution_count": 40,
      "outputs": [
        {
          "output_type": "execute_result",
          "data": {
            "text/plain": [
              "{'optimizer': 'adam'}"
            ]
          },
          "metadata": {},
          "execution_count": 40
        }
      ]
    },
    {
      "cell_type": "code",
      "source": [
        "model = tuner.get_best_models(num_models=1)[0]"
      ],
      "metadata": {
        "id": "Rg-ynZo_l3Et"
      },
      "execution_count": 41,
      "outputs": []
    },
    {
      "cell_type": "code",
      "source": [
        "model.summary()"
      ],
      "metadata": {
        "colab": {
          "base_uri": "https://localhost:8080/"
        },
        "id": "A5Y0nOLbmEIJ",
        "outputId": "a88bf4a3-0cc0-4fad-d13c-d0ab5977a104"
      },
      "execution_count": 42,
      "outputs": [
        {
          "output_type": "stream",
          "name": "stdout",
          "text": [
            "Model: \"sequential\"\n",
            "_________________________________________________________________\n",
            " Layer (type)                Output Shape              Param #   \n",
            "=================================================================\n",
            " dense (Dense)               (None, 32)                288       \n",
            "                                                                 \n",
            " dense_1 (Dense)             (None, 1)                 33        \n",
            "                                                                 \n",
            "=================================================================\n",
            "Total params: 321 (1.25 KB)\n",
            "Trainable params: 321 (1.25 KB)\n",
            "Non-trainable params: 0 (0.00 Byte)\n",
            "_________________________________________________________________\n"
          ]
        }
      ]
    },
    {
      "cell_type": "code",
      "source": [
        "model.fit(X_train,y_train,batch_size=32,epochs=100,initial_epoch=6,validation_data=(X_test,y_test))"
      ],
      "metadata": {
        "colab": {
          "base_uri": "https://localhost:8080/"
        },
        "id": "WGWiSOwCmGGW",
        "outputId": "16179cc3-3806-44dd-f616-63b13ef48648"
      },
      "execution_count": 43,
      "outputs": [
        {
          "output_type": "stream",
          "name": "stdout",
          "text": [
            "Epoch 7/100\n",
            "20/20 [==============================] - 1s 12ms/step - loss: 0.4957 - accuracy: 0.7606 - val_loss: 0.5259 - val_accuracy: 0.7468\n",
            "Epoch 8/100\n",
            "20/20 [==============================] - 0s 4ms/step - loss: 0.4843 - accuracy: 0.7557 - val_loss: 0.5225 - val_accuracy: 0.7273\n",
            "Epoch 9/100\n",
            "20/20 [==============================] - 0s 4ms/step - loss: 0.4753 - accuracy: 0.7655 - val_loss: 0.5185 - val_accuracy: 0.7143\n",
            "Epoch 10/100\n",
            "20/20 [==============================] - 0s 4ms/step - loss: 0.4678 - accuracy: 0.7720 - val_loss: 0.5177 - val_accuracy: 0.7143\n",
            "Epoch 11/100\n",
            "20/20 [==============================] - 0s 4ms/step - loss: 0.4619 - accuracy: 0.7769 - val_loss: 0.5161 - val_accuracy: 0.7143\n",
            "Epoch 12/100\n",
            "20/20 [==============================] - 0s 5ms/step - loss: 0.4578 - accuracy: 0.7785 - val_loss: 0.5149 - val_accuracy: 0.7143\n",
            "Epoch 13/100\n",
            "20/20 [==============================] - 0s 4ms/step - loss: 0.4537 - accuracy: 0.7818 - val_loss: 0.5137 - val_accuracy: 0.7208\n",
            "Epoch 14/100\n",
            "20/20 [==============================] - 0s 4ms/step - loss: 0.4507 - accuracy: 0.7801 - val_loss: 0.5143 - val_accuracy: 0.7208\n",
            "Epoch 15/100\n",
            "20/20 [==============================] - 0s 4ms/step - loss: 0.4487 - accuracy: 0.7785 - val_loss: 0.5144 - val_accuracy: 0.7078\n",
            "Epoch 16/100\n",
            "20/20 [==============================] - 0s 5ms/step - loss: 0.4460 - accuracy: 0.7834 - val_loss: 0.5144 - val_accuracy: 0.7273\n",
            "Epoch 17/100\n",
            "20/20 [==============================] - 0s 4ms/step - loss: 0.4440 - accuracy: 0.7834 - val_loss: 0.5154 - val_accuracy: 0.7208\n",
            "Epoch 18/100\n",
            "20/20 [==============================] - 0s 4ms/step - loss: 0.4421 - accuracy: 0.7850 - val_loss: 0.5158 - val_accuracy: 0.7273\n",
            "Epoch 19/100\n",
            "20/20 [==============================] - 0s 4ms/step - loss: 0.4415 - accuracy: 0.7850 - val_loss: 0.5166 - val_accuracy: 0.7273\n",
            "Epoch 20/100\n",
            "20/20 [==============================] - 0s 4ms/step - loss: 0.4392 - accuracy: 0.7818 - val_loss: 0.5170 - val_accuracy: 0.7597\n",
            "Epoch 21/100\n",
            "20/20 [==============================] - 0s 5ms/step - loss: 0.4376 - accuracy: 0.7818 - val_loss: 0.5171 - val_accuracy: 0.7532\n",
            "Epoch 22/100\n",
            "20/20 [==============================] - 0s 4ms/step - loss: 0.4365 - accuracy: 0.7850 - val_loss: 0.5182 - val_accuracy: 0.7597\n",
            "Epoch 23/100\n",
            "20/20 [==============================] - 0s 5ms/step - loss: 0.4351 - accuracy: 0.7850 - val_loss: 0.5184 - val_accuracy: 0.7597\n",
            "Epoch 24/100\n",
            "20/20 [==============================] - 0s 4ms/step - loss: 0.4341 - accuracy: 0.7899 - val_loss: 0.5183 - val_accuracy: 0.7597\n",
            "Epoch 25/100\n",
            "20/20 [==============================] - 0s 5ms/step - loss: 0.4328 - accuracy: 0.7866 - val_loss: 0.5180 - val_accuracy: 0.7597\n",
            "Epoch 26/100\n",
            "20/20 [==============================] - 0s 4ms/step - loss: 0.4319 - accuracy: 0.7883 - val_loss: 0.5195 - val_accuracy: 0.7597\n",
            "Epoch 27/100\n",
            "20/20 [==============================] - 0s 5ms/step - loss: 0.4311 - accuracy: 0.7883 - val_loss: 0.5220 - val_accuracy: 0.7597\n",
            "Epoch 28/100\n",
            "20/20 [==============================] - 0s 4ms/step - loss: 0.4303 - accuracy: 0.7866 - val_loss: 0.5230 - val_accuracy: 0.7662\n",
            "Epoch 29/100\n",
            "20/20 [==============================] - 0s 4ms/step - loss: 0.4295 - accuracy: 0.7866 - val_loss: 0.5239 - val_accuracy: 0.7597\n",
            "Epoch 30/100\n",
            "20/20 [==============================] - 0s 3ms/step - loss: 0.4283 - accuracy: 0.7899 - val_loss: 0.5227 - val_accuracy: 0.7597\n",
            "Epoch 31/100\n",
            "20/20 [==============================] - 0s 4ms/step - loss: 0.4277 - accuracy: 0.7899 - val_loss: 0.5229 - val_accuracy: 0.7597\n",
            "Epoch 32/100\n",
            "20/20 [==============================] - 0s 4ms/step - loss: 0.4269 - accuracy: 0.7899 - val_loss: 0.5232 - val_accuracy: 0.7597\n",
            "Epoch 33/100\n",
            "20/20 [==============================] - 0s 3ms/step - loss: 0.4259 - accuracy: 0.7932 - val_loss: 0.5245 - val_accuracy: 0.7597\n",
            "Epoch 34/100\n",
            "20/20 [==============================] - 0s 4ms/step - loss: 0.4257 - accuracy: 0.7915 - val_loss: 0.5243 - val_accuracy: 0.7597\n",
            "Epoch 35/100\n",
            "20/20 [==============================] - 0s 4ms/step - loss: 0.4247 - accuracy: 0.7915 - val_loss: 0.5245 - val_accuracy: 0.7468\n",
            "Epoch 36/100\n",
            "20/20 [==============================] - 0s 4ms/step - loss: 0.4237 - accuracy: 0.7932 - val_loss: 0.5230 - val_accuracy: 0.7468\n",
            "Epoch 37/100\n",
            "20/20 [==============================] - 0s 4ms/step - loss: 0.4232 - accuracy: 0.7915 - val_loss: 0.5249 - val_accuracy: 0.7532\n",
            "Epoch 38/100\n",
            "20/20 [==============================] - 0s 4ms/step - loss: 0.4221 - accuracy: 0.7915 - val_loss: 0.5258 - val_accuracy: 0.7532\n",
            "Epoch 39/100\n",
            "20/20 [==============================] - 0s 4ms/step - loss: 0.4216 - accuracy: 0.7932 - val_loss: 0.5253 - val_accuracy: 0.7403\n",
            "Epoch 40/100\n",
            "20/20 [==============================] - 0s 4ms/step - loss: 0.4211 - accuracy: 0.7948 - val_loss: 0.5258 - val_accuracy: 0.7403\n",
            "Epoch 41/100\n",
            "20/20 [==============================] - 0s 4ms/step - loss: 0.4207 - accuracy: 0.7932 - val_loss: 0.5253 - val_accuracy: 0.7532\n",
            "Epoch 42/100\n",
            "20/20 [==============================] - 0s 4ms/step - loss: 0.4195 - accuracy: 0.7948 - val_loss: 0.5245 - val_accuracy: 0.7532\n",
            "Epoch 43/100\n",
            "20/20 [==============================] - 0s 4ms/step - loss: 0.4191 - accuracy: 0.7948 - val_loss: 0.5247 - val_accuracy: 0.7532\n",
            "Epoch 44/100\n",
            "20/20 [==============================] - 0s 4ms/step - loss: 0.4182 - accuracy: 0.7964 - val_loss: 0.5259 - val_accuracy: 0.7532\n",
            "Epoch 45/100\n",
            "20/20 [==============================] - 0s 4ms/step - loss: 0.4173 - accuracy: 0.7980 - val_loss: 0.5248 - val_accuracy: 0.7597\n",
            "Epoch 46/100\n",
            "20/20 [==============================] - 0s 4ms/step - loss: 0.4172 - accuracy: 0.7964 - val_loss: 0.5251 - val_accuracy: 0.7532\n",
            "Epoch 47/100\n",
            "20/20 [==============================] - 0s 6ms/step - loss: 0.4166 - accuracy: 0.7980 - val_loss: 0.5276 - val_accuracy: 0.7532\n",
            "Epoch 48/100\n",
            "20/20 [==============================] - 0s 6ms/step - loss: 0.4166 - accuracy: 0.7997 - val_loss: 0.5279 - val_accuracy: 0.7532\n",
            "Epoch 49/100\n",
            "20/20 [==============================] - 0s 5ms/step - loss: 0.4153 - accuracy: 0.8013 - val_loss: 0.5272 - val_accuracy: 0.7468\n",
            "Epoch 50/100\n",
            "20/20 [==============================] - 0s 6ms/step - loss: 0.4148 - accuracy: 0.7997 - val_loss: 0.5279 - val_accuracy: 0.7468\n",
            "Epoch 51/100\n",
            "20/20 [==============================] - 0s 6ms/step - loss: 0.4146 - accuracy: 0.7964 - val_loss: 0.5269 - val_accuracy: 0.7532\n",
            "Epoch 52/100\n",
            "20/20 [==============================] - 0s 6ms/step - loss: 0.4139 - accuracy: 0.7997 - val_loss: 0.5284 - val_accuracy: 0.7468\n",
            "Epoch 53/100\n",
            "20/20 [==============================] - 0s 6ms/step - loss: 0.4132 - accuracy: 0.8013 - val_loss: 0.5291 - val_accuracy: 0.7532\n",
            "Epoch 54/100\n",
            "20/20 [==============================] - 0s 6ms/step - loss: 0.4137 - accuracy: 0.8013 - val_loss: 0.5291 - val_accuracy: 0.7597\n",
            "Epoch 55/100\n",
            "20/20 [==============================] - 0s 6ms/step - loss: 0.4121 - accuracy: 0.8029 - val_loss: 0.5291 - val_accuracy: 0.7597\n",
            "Epoch 56/100\n",
            "20/20 [==============================] - 0s 7ms/step - loss: 0.4123 - accuracy: 0.8013 - val_loss: 0.5293 - val_accuracy: 0.7532\n",
            "Epoch 57/100\n",
            "20/20 [==============================] - 0s 6ms/step - loss: 0.4115 - accuracy: 0.8029 - val_loss: 0.5281 - val_accuracy: 0.7532\n",
            "Epoch 58/100\n",
            "20/20 [==============================] - 0s 6ms/step - loss: 0.4110 - accuracy: 0.8013 - val_loss: 0.5309 - val_accuracy: 0.7532\n",
            "Epoch 59/100\n",
            "20/20 [==============================] - 0s 6ms/step - loss: 0.4107 - accuracy: 0.8013 - val_loss: 0.5311 - val_accuracy: 0.7597\n",
            "Epoch 60/100\n",
            "20/20 [==============================] - 0s 6ms/step - loss: 0.4102 - accuracy: 0.8046 - val_loss: 0.5331 - val_accuracy: 0.7532\n",
            "Epoch 61/100\n",
            "20/20 [==============================] - 0s 6ms/step - loss: 0.4098 - accuracy: 0.8013 - val_loss: 0.5313 - val_accuracy: 0.7597\n",
            "Epoch 62/100\n",
            "20/20 [==============================] - 0s 6ms/step - loss: 0.4091 - accuracy: 0.8046 - val_loss: 0.5341 - val_accuracy: 0.7597\n",
            "Epoch 63/100\n",
            "20/20 [==============================] - 0s 7ms/step - loss: 0.4091 - accuracy: 0.8046 - val_loss: 0.5340 - val_accuracy: 0.7597\n",
            "Epoch 64/100\n",
            "20/20 [==============================] - 0s 6ms/step - loss: 0.4084 - accuracy: 0.8062 - val_loss: 0.5357 - val_accuracy: 0.7662\n",
            "Epoch 65/100\n",
            "20/20 [==============================] - 0s 7ms/step - loss: 0.4091 - accuracy: 0.8078 - val_loss: 0.5351 - val_accuracy: 0.7532\n",
            "Epoch 66/100\n",
            "20/20 [==============================] - 0s 7ms/step - loss: 0.4077 - accuracy: 0.8094 - val_loss: 0.5340 - val_accuracy: 0.7597\n",
            "Epoch 67/100\n",
            "20/20 [==============================] - 0s 7ms/step - loss: 0.4072 - accuracy: 0.8078 - val_loss: 0.5330 - val_accuracy: 0.7597\n",
            "Epoch 68/100\n",
            "20/20 [==============================] - 0s 4ms/step - loss: 0.4067 - accuracy: 0.8078 - val_loss: 0.5341 - val_accuracy: 0.7597\n",
            "Epoch 69/100\n",
            "20/20 [==============================] - 0s 4ms/step - loss: 0.4062 - accuracy: 0.8094 - val_loss: 0.5356 - val_accuracy: 0.7597\n",
            "Epoch 70/100\n",
            "20/20 [==============================] - 0s 4ms/step - loss: 0.4055 - accuracy: 0.8111 - val_loss: 0.5364 - val_accuracy: 0.7532\n",
            "Epoch 71/100\n",
            "20/20 [==============================] - 0s 5ms/step - loss: 0.4054 - accuracy: 0.8094 - val_loss: 0.5369 - val_accuracy: 0.7532\n",
            "Epoch 72/100\n",
            "20/20 [==============================] - 0s 4ms/step - loss: 0.4054 - accuracy: 0.8094 - val_loss: 0.5362 - val_accuracy: 0.7662\n",
            "Epoch 73/100\n",
            "20/20 [==============================] - 0s 4ms/step - loss: 0.4047 - accuracy: 0.8111 - val_loss: 0.5376 - val_accuracy: 0.7597\n",
            "Epoch 74/100\n",
            "20/20 [==============================] - 0s 4ms/step - loss: 0.4046 - accuracy: 0.8111 - val_loss: 0.5381 - val_accuracy: 0.7597\n",
            "Epoch 75/100\n",
            "20/20 [==============================] - 0s 5ms/step - loss: 0.4039 - accuracy: 0.8078 - val_loss: 0.5393 - val_accuracy: 0.7662\n",
            "Epoch 76/100\n",
            "20/20 [==============================] - 0s 4ms/step - loss: 0.4038 - accuracy: 0.8111 - val_loss: 0.5397 - val_accuracy: 0.7597\n",
            "Epoch 77/100\n",
            "20/20 [==============================] - 0s 4ms/step - loss: 0.4032 - accuracy: 0.8111 - val_loss: 0.5396 - val_accuracy: 0.7532\n",
            "Epoch 78/100\n",
            "20/20 [==============================] - 0s 4ms/step - loss: 0.4028 - accuracy: 0.8111 - val_loss: 0.5386 - val_accuracy: 0.7532\n",
            "Epoch 79/100\n",
            "20/20 [==============================] - 0s 5ms/step - loss: 0.4023 - accuracy: 0.8111 - val_loss: 0.5372 - val_accuracy: 0.7532\n",
            "Epoch 80/100\n",
            "20/20 [==============================] - 0s 4ms/step - loss: 0.4018 - accuracy: 0.8111 - val_loss: 0.5376 - val_accuracy: 0.7597\n",
            "Epoch 81/100\n",
            "20/20 [==============================] - 0s 4ms/step - loss: 0.4019 - accuracy: 0.8127 - val_loss: 0.5390 - val_accuracy: 0.7532\n",
            "Epoch 82/100\n",
            "20/20 [==============================] - 0s 4ms/step - loss: 0.4013 - accuracy: 0.8143 - val_loss: 0.5387 - val_accuracy: 0.7597\n",
            "Epoch 83/100\n",
            "20/20 [==============================] - 0s 5ms/step - loss: 0.4010 - accuracy: 0.8127 - val_loss: 0.5399 - val_accuracy: 0.7532\n",
            "Epoch 84/100\n",
            "20/20 [==============================] - 0s 5ms/step - loss: 0.4004 - accuracy: 0.8111 - val_loss: 0.5379 - val_accuracy: 0.7597\n",
            "Epoch 85/100\n",
            "20/20 [==============================] - 0s 5ms/step - loss: 0.4006 - accuracy: 0.8078 - val_loss: 0.5384 - val_accuracy: 0.7532\n",
            "Epoch 86/100\n",
            "20/20 [==============================] - 0s 4ms/step - loss: 0.4006 - accuracy: 0.8094 - val_loss: 0.5385 - val_accuracy: 0.7532\n",
            "Epoch 87/100\n",
            "20/20 [==============================] - 0s 4ms/step - loss: 0.3997 - accuracy: 0.8094 - val_loss: 0.5384 - val_accuracy: 0.7597\n",
            "Epoch 88/100\n",
            "20/20 [==============================] - 0s 4ms/step - loss: 0.3993 - accuracy: 0.8078 - val_loss: 0.5392 - val_accuracy: 0.7532\n",
            "Epoch 89/100\n",
            "20/20 [==============================] - 0s 4ms/step - loss: 0.3996 - accuracy: 0.8160 - val_loss: 0.5414 - val_accuracy: 0.7532\n",
            "Epoch 90/100\n",
            "20/20 [==============================] - 0s 4ms/step - loss: 0.3993 - accuracy: 0.8160 - val_loss: 0.5407 - val_accuracy: 0.7468\n",
            "Epoch 91/100\n",
            "20/20 [==============================] - 0s 4ms/step - loss: 0.3985 - accuracy: 0.8143 - val_loss: 0.5405 - val_accuracy: 0.7468\n",
            "Epoch 92/100\n",
            "20/20 [==============================] - 0s 4ms/step - loss: 0.3982 - accuracy: 0.8127 - val_loss: 0.5427 - val_accuracy: 0.7532\n",
            "Epoch 93/100\n",
            "20/20 [==============================] - 0s 4ms/step - loss: 0.3978 - accuracy: 0.8143 - val_loss: 0.5426 - val_accuracy: 0.7532\n",
            "Epoch 94/100\n",
            "20/20 [==============================] - 0s 4ms/step - loss: 0.3978 - accuracy: 0.8143 - val_loss: 0.5440 - val_accuracy: 0.7532\n",
            "Epoch 95/100\n",
            "20/20 [==============================] - 0s 4ms/step - loss: 0.3974 - accuracy: 0.8160 - val_loss: 0.5425 - val_accuracy: 0.7532\n",
            "Epoch 96/100\n",
            "20/20 [==============================] - 0s 5ms/step - loss: 0.3969 - accuracy: 0.8176 - val_loss: 0.5430 - val_accuracy: 0.7532\n",
            "Epoch 97/100\n",
            "20/20 [==============================] - 0s 4ms/step - loss: 0.3964 - accuracy: 0.8127 - val_loss: 0.5430 - val_accuracy: 0.7468\n",
            "Epoch 98/100\n",
            "20/20 [==============================] - 0s 4ms/step - loss: 0.3961 - accuracy: 0.8160 - val_loss: 0.5419 - val_accuracy: 0.7468\n",
            "Epoch 99/100\n",
            "20/20 [==============================] - 0s 4ms/step - loss: 0.3960 - accuracy: 0.8143 - val_loss: 0.5434 - val_accuracy: 0.7468\n",
            "Epoch 100/100\n",
            "20/20 [==============================] - 0s 4ms/step - loss: 0.3955 - accuracy: 0.8160 - val_loss: 0.5412 - val_accuracy: 0.7532\n"
          ]
        },
        {
          "output_type": "execute_result",
          "data": {
            "text/plain": [
              "<keras.src.callbacks.History at 0x78f29fa38a00>"
            ]
          },
          "metadata": {},
          "execution_count": 43
        }
      ]
    },
    {
      "cell_type": "code",
      "source": [],
      "metadata": {
        "id": "0sif30XqmgRI"
      },
      "execution_count": null,
      "outputs": []
    }
  ]
}